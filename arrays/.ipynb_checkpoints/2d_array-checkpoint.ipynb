{
 "cells": [
  {
   "cell_type": "markdown",
   "metadata": {},
   "source": [
    "## 2D Array - DS"
   ]
  },
  {
   "cell_type": "markdown",
   "metadata": {},
   "source": [
    "Given a 6 x 6 2D Array, arr:\n",
    "\n",
    "    1 1 1 0 0 0\n",
    "    0 1 0 0 0 0\n",
    "    1 1 1 0 0 0\n",
    "    0 0 0 0 0 0\n",
    "    0 0 0 0 0 0\n",
    "    0 0 0 0 0 0\n",
    "We define an hourglass in A to be a subset of values with indices falling in this pattern in arr's graphical representation:\n",
    "\n",
    "    a b c\n",
    "      d\n",
    "    e f g\n",
    "\n",
    "There are 16 hourglasses in arr, and an hourglass sum is the sum of an hourglass' values. Calculate the hourglass sum for every hourglass in arr, then print the maximum hourglass sum.\n",
    "\n",
    "For example, given the 2D array:\n",
    "\n",
    "    -9 -9 -9  1 1 1 \n",
    "     0 -9  0  4 3 2\n",
    "    -9 -9 -9  1 2 3\n",
    "     0  0  8  6 6 0\n",
    "     0  0  0 -2 0 0\n",
    "     0  0  1  2 4 0\n",
    "We calculate the following 16 hourglass values:\n",
    "\n",
    "    -63, -34, -9, 12, \n",
    "    -10, 0, 28, 23, \n",
    "    -27, -11, -2, 10, \n",
    "    9, 17, 25, 18\n",
    "    \n",
    "Our highest hourglass value is 28 from the hourglass:\n",
    "\n",
    "    0 4 3\n",
    "      1\n",
    "    8 6 6\n",
    "    \n",
    "Note: If you have already solved the Java domain's Java 2D Array challenge, you may wish to skip this challenge.\n",
    "\n",
    "**Function Description**\n",
    "\n",
    "Complete the function hourglassSum in the editor below. It should return an integer, the maximum hourglass sum in the array.\n",
    "\n",
    "hourglassSum has the following parameter(s):\n",
    "\n",
    "- arr: an array of integers"
   ]
  },
  {
   "cell_type": "code",
   "execution_count": null,
   "metadata": {},
   "outputs": [],
   "source": [
    "#!/bin/python3\n",
    "\n",
    "import math\n",
    "import os\n",
    "import random\n",
    "import re\n",
    "import sys\n",
    "\n",
    "# Complete the hourglassSum function below.\n",
    "def hourglassSum(arr):\n",
    "    max_sum = None\n",
    "    n = len(arr)\n",
    "    for r in range(1, n-1):\n",
    "        for c in range(1, n-1):\n",
    "            h_sum = hourglass(arr, r, c)\n",
    "            if max_sum == None or h_sum >= max_sum:\n",
    "                max_sum = h_sum\n",
    "    return max_sum\n",
    "\n",
    "def hourglass(arr, r, c):\n",
    "    h_sum = 0\n",
    "    for i in [-1, 0, 1]:\n",
    "        for j in [-1, 0, 1]:\n",
    "            h_sum += arr[r-i][c-j]\n",
    "    return h_sum - arr[r][c-1] - arr[r][c+1]\n",
    "\n",
    "if __name__ == '__main__':\n",
    "    fptr = open(os.environ['OUTPUT_PATH'], 'w')\n",
    "\n",
    "    arr = []\n",
    "\n",
    "    for _ in range(6):\n",
    "        arr.append(list(map(int, input().rstrip().split())))\n",
    "\n",
    "    result = hourglassSum(arr)\n",
    "\n",
    "    fptr.write(str(result) + '\\n')\n",
    "\n",
    "    fptr.close()"
   ]
  },
  {
   "cell_type": "code",
   "execution_count": 31,
   "metadata": {},
   "outputs": [
    {
     "name": "stdout",
     "output_type": "stream",
     "text": [
      "1 1 1 0 0 0\n",
      "0 1 0 0 0 0\n",
      "1 1 1 0 0 0\n",
      "0 0 2 4 4 0\n",
      "0 0 0 2 0 0\n",
      "0 0 1 2 4 0\n"
     ]
    },
    {
     "data": {
      "text/plain": [
       "[[1, 1, 1, 0, 0, 0],\n",
       " [0, 1, 0, 0, 0, 0],\n",
       " [1, 1, 1, 0, 0, 0],\n",
       " [0, 0, 2, 4, 4, 0],\n",
       " [0, 0, 0, 2, 0, 0],\n",
       " [0, 0, 1, 2, 4, 0]]"
      ]
     },
     "execution_count": 31,
     "metadata": {},
     "output_type": "execute_result"
    }
   ],
   "source": [
    "from io import StringIO\n",
    "a = \"\"\"1 1 1 0 0 0\n",
    "0 1 0 0 0 0\n",
    "1 1 1 0 0 0\n",
    "0 0 2 4 4 0\n",
    "0 0 0 2 0 0\n",
    "0 0 1 2 4 0\"\"\"\n",
    "a = a.split('\\n')\n",
    "m = []\n",
    "for row in a:\n",
    "    print(row)\n",
    "    row = row.split()\n",
    "    row = list(map(int, row))\n",
    "    m.append(row)\n",
    "    \n",
    "m"
   ]
  }
 ],
 "metadata": {
  "kernelspec": {
   "display_name": "Python 3",
   "language": "python",
   "name": "python3"
  },
  "language_info": {
   "codemirror_mode": {
    "name": "ipython",
    "version": 3
   },
   "file_extension": ".py",
   "mimetype": "text/x-python",
   "name": "python",
   "nbconvert_exporter": "python",
   "pygments_lexer": "ipython3",
   "version": "3.6.6"
  }
 },
 "nbformat": 4,
 "nbformat_minor": 2
}
