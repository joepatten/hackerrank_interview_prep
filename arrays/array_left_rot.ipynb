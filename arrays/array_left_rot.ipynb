{
 "cells": [
  {
   "cell_type": "markdown",
   "metadata": {},
   "source": [
    "## Arrays: Left Rotation\n",
    "\n"
   ]
  },
  {
   "cell_type": "markdown",
   "metadata": {},
   "source": [
    "A left rotation operation on an array shifts each of the array's elements 1 unit to the left. For example, if 2 left rotations are performed on array [1,2,3,4,5], then the array would become [3,4,5,1,2].\n",
    "\n",
    "Given an array a of n integers and a number, d, perform d left rotations on the array. Return the updated array to be printed as a single line of space-separated integers.\n",
    "\n",
    "**Function Description**\n",
    "\n",
    "Complete the function rotLeft in the editor below. It should return the resulting array of integers.\n",
    "\n",
    "rotLeft has the following parameter(s):\n",
    "\n",
    "- An array of integers a.\n",
    "- An integer d, the number of rotations."
   ]
  },
  {
   "cell_type": "code",
   "execution_count": 6,
   "metadata": {},
   "outputs": [
    {
     "data": {
      "text/plain": [
       "[3, 4, 5, 1, 2]"
      ]
     },
     "execution_count": 6,
     "metadata": {},
     "output_type": "execute_result"
    }
   ],
   "source": [
    "#!/bin/python3\n",
    "\n",
    "import math\n",
    "import os\n",
    "import random\n",
    "import re\n",
    "import sys\n",
    "\n",
    "# Complete the rotLeft function below.\n",
    "def rotLeft(a, d):\n",
    "    return a[d:] + a[:d]\n",
    "\n",
    "if __name__ == '__main__':\n",
    "    fptr = open(os.environ['OUTPUT_PATH'], 'w')\n",
    "\n",
    "    nd = input().split()\n",
    "\n",
    "    n = int(nd[0])\n",
    "\n",
    "    d = int(nd[1])\n",
    "\n",
    "    a = list(map(int, input().rstrip().split()))\n",
    "\n",
    "    result = rotLeft(a, d)\n",
    "\n",
    "    fptr.write(' '.join(map(str, result)))\n",
    "    fptr.write('\\n')\n",
    "\n",
    "    fptr.close()\n"
   ]
  },
  {
   "cell_type": "code",
   "execution_count": 15,
   "metadata": {},
   "outputs": [
    {
     "data": {
      "text/plain": [
       "'Too chaotic'"
      ]
     },
     "execution_count": 15,
     "metadata": {},
     "output_type": "execute_result"
    }
   ],
   "source": [
    "minimumBribes([2,5, 1, 3, 4])"
   ]
  },
  {
   "cell_type": "code",
   "execution_count": 12,
   "metadata": {},
   "outputs": [],
   "source": [
    "def minimumBribes(arr):\n",
    "    bribe = 0\n",
    "    n = len(arr)\n",
    "    for i in range(n):\n",
    "        if arr[i] - (i+1) > 2:\n",
    "            return 'Too chaotic'\n",
    "        start = max(0, arr[i]-1-1)\n",
    "        for j in range(start, i):\n",
    "            if arr[j] > arr[i]:\n",
    "                bribe += 1\n",
    "    return bribe\n",
    "\n"
   ]
  },
  {
   "cell_type": "code",
   "execution_count": null,
   "metadata": {},
   "outputs": [],
   "source": [
    "static void minimumBribes(int[] q) {\n",
    "    int bribe = 0;\n",
    "    bool chaotic = false;\n",
    "    int n = q.Length;\n",
    "    for(int i = 0; i < n; i++)\n",
    "    {\n",
    "        if(q[i]-(i+1) > 2)\n",
    "        {               \n",
    "            chaotic = true;\n",
    "            break;     \n",
    "        }\n",
    "        for (int j = Math.Max(0, q[i]-1-1); j < i; j++)\n",
    "            if (q[j] > q[i]) \n",
    "                bribe++;\n",
    "    }\n",
    "    if(chaotic)\n",
    "        Console.WriteLine(\"Too chaotic\");\n",
    "    else\n",
    "        Console.WriteLine(bribe);\n",
    "}"
   ]
  }
 ],
 "metadata": {
  "kernelspec": {
   "display_name": "Python 3",
   "language": "python",
   "name": "python3"
  },
  "language_info": {
   "codemirror_mode": {
    "name": "ipython",
    "version": 3
   },
   "file_extension": ".py",
   "mimetype": "text/x-python",
   "name": "python",
   "nbconvert_exporter": "python",
   "pygments_lexer": "ipython3",
   "version": "3.6.6"
  }
 },
 "nbformat": 4,
 "nbformat_minor": 2
}
