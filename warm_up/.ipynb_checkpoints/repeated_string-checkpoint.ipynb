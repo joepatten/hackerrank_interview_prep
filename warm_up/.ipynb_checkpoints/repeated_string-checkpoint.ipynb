{
 "cells": [
  {
   "cell_type": "markdown",
   "metadata": {},
   "source": [
    "## Repeated String"
   ]
  },
  {
   "cell_type": "markdown",
   "metadata": {},
   "source": [
    "Lilah has a string, s, of lowercase English letters that she repeated infinitely many times.\n",
    "\n",
    "Given an integer, n, find and print the number of letter a's in the first n letters of Lilah's infinite string.\n",
    "\n",
    "For example, if the string s = 'abcac' and n=10, the substring we consider is abcacabcac, the first 10 characters of her infinite string. There are 4 occurrences of a in the substring.\n",
    "\n",
    "**Function Description**\n",
    "\n",
    "Complete the repeatedString function in the editor below. It should return an integer representing the number of occurrences of a in the prefix of length  in the infinitely repeating string.\n",
    "\n",
    "repeatedString has the following parameter(s):\n",
    "\n",
    "- s: a string to repeat\n",
    "- n: the number of characters to consider"
   ]
  },
  {
   "cell_type": "code",
   "execution_count": 10,
   "metadata": {},
   "outputs": [
    {
     "data": {
      "text/plain": [
       "7"
      ]
     },
     "execution_count": 10,
     "metadata": {},
     "output_type": "execute_result"
    }
   ],
   "source": [
    "#!/bin/python3\n",
    "\n",
    "import math\n",
    "import os\n",
    "import random\n",
    "import re\n",
    "import sys\n",
    "\n",
    "# Complete the repeatedString function below.\n",
    "def count_letters(s, l='a'):\n",
    "    count = 0\n",
    "    for e in s:\n",
    "        if l == e:\n",
    "            count += 1\n",
    "    return count\n",
    "\n",
    "def number_string(s, n):\n",
    "    return n //len(s)\n",
    "\n",
    "def remain_string(s, n):\n",
    "    return n % len(s)\n",
    "\n",
    "def repeatedString(s, n):\n",
    "    return number_string(s, n) * count_letters(s) + count_letters(s[:remain_string(s, n)])\n",
    "\n",
    "if __name__ == '__main__':\n",
    "    fptr = open(os.environ['OUTPUT_PATH'], 'w')\n",
    "\n",
    "    s = input()\n",
    "\n",
    "    n = int(input())\n",
    "\n",
    "    result = repeatedString(s, n)\n",
    "\n",
    "    fptr.write(str(result) + '\\n')\n",
    "\n",
    "    fptr.close()"
   ]
  }
 ],
 "metadata": {
  "kernelspec": {
   "display_name": "Python 3",
   "language": "python",
   "name": "python3"
  },
  "language_info": {
   "codemirror_mode": {
    "name": "ipython",
    "version": 3
   },
   "file_extension": ".py",
   "mimetype": "text/x-python",
   "name": "python",
   "nbconvert_exporter": "python",
   "pygments_lexer": "ipython3",
   "version": "3.6.6"
  }
 },
 "nbformat": 4,
 "nbformat_minor": 2
}
