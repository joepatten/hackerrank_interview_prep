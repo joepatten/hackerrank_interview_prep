{
 "cells": [
  {
   "cell_type": "markdown",
   "metadata": {},
   "source": [
    "## Sock Merchant"
   ]
  },
  {
   "cell_type": "markdown",
   "metadata": {},
   "source": [
    "John works at a clothing store. He has a large pile of socks that he must pair by color for sale. Given an array of integers representing the color of each sock, determine how many pairs of socks with matching colors there are.\n",
    "\n",
    "For example, there are n=7 socks with colors ar=[1,2,1,2,1,3,2]. There is one pair of color 1 and one of color 2. There are three odd socks left, one of each color. The number of pairs is 2.\n",
    "\n",
    "Function Description\n",
    "\n",
    "Complete the sockMerchant function in the editor below. It must return an integer representing the number of matching pairs of socks that are available.\n",
    "\n",
    "sockMerchant has the following parameter(s):\n",
    "\n",
    "- n: the number of socks in the pile\n",
    "- ar: the colors of each sock\n",
    "\n",
    "**Input Format**\n",
    "\n",
    "The first line contains an integer n, the number of socks represented in ar. \n",
    "The second line contains n space-separated integers describing the colors ar[i] of the socks in the pile."
   ]
  },
  {
   "cell_type": "code",
   "execution_count": null,
   "metadata": {},
   "outputs": [],
   "source": [
    "#!/bin/python3\n",
    "\n",
    "import math\n",
    "import os\n",
    "import random\n",
    "import re\n",
    "import sys\n",
    "\n",
    "# Complete the sockMerchant function below.\n",
    "def sockMerchant(ar):\n",
    "    s = set()\n",
    "    cnt = 0\n",
    "    for e in ar:\n",
    "        if e not in s:\n",
    "            s.add(e)\n",
    "        else:\n",
    "            cnt += 1\n",
    "            s.remove(e)\n",
    "    return cnt\n",
    "            \n",
    "\n",
    "if __name__ == '__main__':\n",
    "    fptr = open(os.environ['OUTPUT_PATH'], 'w')\n",
    "\n",
    "    n = int(input())\n",
    "\n",
    "    ar = list(map(int, input().rstrip().split()))\n",
    "\n",
    "    result = sockMerchant(ar)\n",
    "\n",
    "    fptr.write(str(result) + '\\n')\n",
    "\n",
    "    fptr.close()\n"
   ]
  }
 ],
 "metadata": {
  "kernelspec": {
   "display_name": "Python 3",
   "language": "python",
   "name": "python3"
  },
  "language_info": {
   "codemirror_mode": {
    "name": "ipython",
    "version": 3
   },
   "file_extension": ".py",
   "mimetype": "text/x-python",
   "name": "python",
   "nbconvert_exporter": "python",
   "pygments_lexer": "ipython3",
   "version": "3.6.6"
  }
 },
 "nbformat": 4,
 "nbformat_minor": 2
}
